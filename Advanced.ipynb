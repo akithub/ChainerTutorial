{
 "cells": [
  {
   "cell_type": "markdown",
   "metadata": {},
   "source": [
    "# import"
   ]
  },
  {
   "cell_type": "code",
   "execution_count": 1,
   "metadata": {},
   "outputs": [],
   "source": [
    "import matplotlib.pyplot as plt\n",
    "import numpy as np\n",
    "\n",
    "import chainer"
   ]
  },
  {
   "cell_type": "markdown",
   "metadata": {},
   "source": [
    "# データの取得"
   ]
  },
  {
   "cell_type": "code",
   "execution_count": 2,
   "metadata": {},
   "outputs": [],
   "source": [
    "train, test = chainer.datasets.get_mnist()"
   ]
  },
  {
   "cell_type": "markdown",
   "metadata": {},
   "source": [
    "# データセットの分割\n",
    "\n",
    "split_dataset_random を使って train を訓練用と検証用にわける"
   ]
  },
  {
   "cell_type": "code",
   "execution_count": 3,
   "metadata": {},
   "outputs": [],
   "source": [
    "from chainer.datasets import split_dataset_random\n",
    "\n",
    "train, valid = split_dataset_random(train, int(len(train) * 0.7), seed=0)"
   ]
  },
  {
   "cell_type": "code",
   "execution_count": 4,
   "metadata": {},
   "outputs": [
    {
     "name": "stdout",
     "output_type": "stream",
     "text": [
      "len(train) 42000\n",
      "len(valid) 18000\n",
      "len(test) 10000\n"
     ]
    }
   ],
   "source": [
    "print(\"len(train)\",len(train))\n",
    "print(\"len(valid)\",len(valid))\n",
    "print(\"len(test)\",len(test))"
   ]
  },
  {
   "cell_type": "markdown",
   "metadata": {},
   "source": [
    "# SerialIterator\n",
    "\n",
    "- バッチサイズで取り出し、エポックごとにシャッフル、を自動でやってくれるイテレータ\n",
    "- `イテレータオブジェクト.next()` で自動的にバッチサイズ分を返してくれる"
   ]
  },
  {
   "cell_type": "code",
   "execution_count": 5,
   "metadata": {},
   "outputs": [
    {
     "data": {
      "text/plain": [
       "10"
      ]
     },
     "execution_count": 5,
     "metadata": {},
     "output_type": "execute_result"
    }
   ],
   "source": [
    "from chainer.iterators import SerialIterator\n",
    "\n",
    "train_iter = SerialIterator(train, batch_size=10, repeat=True, shuffle=True)\n",
    "\n",
    "minibatch = train_iter.next()\n",
    "\n",
    "len(minibatch)"
   ]
  },
  {
   "cell_type": "code",
   "execution_count": 6,
   "metadata": {},
   "outputs": [
    {
     "data": {
      "text/plain": [
       "<matplotlib.image.AxesImage at 0x7ff1a8315208>"
      ]
     },
     "execution_count": 6,
     "metadata": {},
     "output_type": "execute_result"
    },
    {
     "data": {
      "image/png": "[encoded data removed]",
      "text/plain": [
       "<Figure size 432x288 with 1 Axes>"
      ]
     },
     "metadata": {
      "needs_background": "light"
     },
     "output_type": "display_data"
    }
   ],
   "source": [
    "img = minibatch[0][0].reshape(28,28)\n",
    "plt.imshow(img)"
   ]
  },
  {
   "cell_type": "markdown",
   "metadata": {},
   "source": [
    "# ネットワークを決める\n",
    "\n",
    "- chainer.Chain クラスを用いるとリンクを複数保持することができる\n",
    "- Chain クラスは Link クラスを継承しているので、Link と同じことができる"
   ]
  },
  {
   "cell_type": "code",
   "execution_count": 7,
   "metadata": {},
   "outputs": [],
   "source": [
    "import chainer\n",
    "import chainer.links as L\n",
    "import chainer.functions as F\n",
    "\n",
    "\n",
    "class Net(chainer.Chain):\n",
    "\n",
    "    def __init__(self, n_in=784, n_hidden=100, n_out=10):\n",
    "        super().__init__()\n",
    "        with self.init_scope():\n",
    "            self.l1 = L.Linear(n_in, n_hidden)\n",
    "            self.l2 = L.Linear(n_hidden, n_hidden)\n",
    "            self.l3 = L.Linear(n_hidden, n_out)\n",
    "\n",
    "    def forward(self, x):\n",
    "        h = F.relu(self.l1(x))\n",
    "        h = F.relu(self.l2(h))\n",
    "        h = self.l3(h)\n",
    "\n",
    "        return h\n",
    "\n",
    "net = Net()"
   ]
  },
  {
   "cell_type": "markdown",
   "metadata": {},
   "source": [
    "# 目的関数を決める\n",
    "\n",
    "- `正則化`: 過学習を防ぐために`正則化項`などを付けること\n",
    "- `重み減衰`: `L2正規化` とも呼ばれる。正規化項を足して、重みが大きくなりすぎないようにする \n",
    "\n",
    "Chainer はパラメータの更新方法をカスタマイズする方法として、２種類用意している\n",
    "\n",
    "## optimizer hook\n",
    "\n",
    "- ネットワークの持つすべてのパラメータに対して処理を行う\n",
    "- `Optimizer` オブジェクトが持っている `add_hook()` メソッドに更新時に行いたい処理を渡して使用する\n",
    "\n",
    "## UpdateRule\n",
    "\n",
    "- ネットワークのパラメータ各々に対して処理を追加する\n",
    "- パラメータが持っている `UodateRule` オブジェクトに対して `UpdateRule.add_hook()` を用いてカスタマイズしたい処理を追加する\n",
    "\n",
    "Chainer は `chainer.optimizer_hooks` クラス以下に正則化手法がいくつか用意されている"
   ]
  },
  {
   "cell_type": "code",
   "execution_count": 8,
   "metadata": {},
   "outputs": [
    {
     "name": "stdout",
     "output_type": "stream",
     "text": [
      "gradient_clipping\n",
      "GradientClipping\n",
      "gradient_hard_clipping\n",
      "GradientHardClipping\n",
      "gradient_lars\n",
      "GradientLARS\n",
      "gradient_noise\n",
      "GradientNoise\n",
      "lasso\n",
      "Lasso\n",
      "weight_decay\n",
      "WeightDecay\n"
     ]
    }
   ],
   "source": [
    "for m in chainer.optimizer_hooks.__dir__():\n",
    "    if not m.startswith('__'):\n",
    "        print(m)"
   ]
  },
  {
   "cell_type": "markdown",
   "metadata": {},
   "source": [
    "重みを用いて、正則化を実現したオプティマイザを定義"
   ]
  },
  {
   "cell_type": "code",
   "execution_count": 9,
   "metadata": {},
   "outputs": [],
   "source": [
    "from chainer import optimizers\n",
    "from chainer.optimizer_hooks import WeightDecay\n",
    "\n",
    "optimizer = optimizers.SGD(lr=0.001)  # 学習率を 0.01 に設定\n",
    "optimizer.setup(net)\n",
    "\n",
    "for param in net.params():\n",
    "    if param.name != 'b':  # バイアス以外だったら\n",
    "        param.update_rule.add_hook(WeightDecay(0.0001))  # 重み減衰を適用"
   ]
  },
  {
   "cell_type": "markdown",
   "metadata": {},
   "source": [
    "- パラメータは `Chain` クラスの `params()` メソッドによって取得ができる\n",
    "- パラメータの中でもバイアスに対しては重みを追加しないようにするため、param.name が `b` であるパラメータを除いている\n",
    "    - バイアスは L.Liner クラスの中で `b` という名前で定義されている\n",
    "- `WeightDecay` クラスによって重みを作り、`add_hook()` によって追加している"
   ]
  },
  {
   "cell_type": "markdown",
   "metadata": {},
   "source": [
    "#  最適化手法を選択する\n",
    "\n",
    "- 今回は SGD ではなく、その改良版である MomentumSGD を用いてみる\n",
    "- MomentumSGD は 前回の勾配を用いて工夫したもの\n",
    "    - 引数の `momentum` は前回の勾配にかける倍率、多くの場合 0.9 が使われる"
   ]
  },
  {
   "cell_type": "code",
   "execution_count": 10,
   "metadata": {},
   "outputs": [],
   "source": [
    "from chainer import optimizers\n",
    "from chainer.optimizer_hooks import WeightDecay\n",
    "\n",
    "optimizer = optimizers.MomentumSGD(lr=0.001, momentum=0.9)\n",
    "optimizer.setup(net)\n",
    "\n",
    "for param in net.params():\n",
    "    if param.name != 'b':  # バイアス以外だったら\n",
    "        param.update_rule.add_hook(WeightDecay(0.0001))  # 重み減衰を適用"
   ]
  },
  {
   "cell_type": "code",
   "execution_count": 13,
   "metadata": {},
   "outputs": [
    {
     "name": "stdout",
     "output_type": "stream",
     "text": [
      "epoch: 0, iteration: 4201, loss (train): 0.1548, loss (valid): 0.2292acc (train): 0.9000, acc (valid): 0.9333\n",
      "epoch: 1, iteration: 8401, loss (train): 0.0592, loss (valid): 0.1836acc (train): 1.0000, acc (valid): 0.9463\n",
      "epoch: 2, iteration: 12601, loss (train): 0.1069, loss (valid): 0.1544acc (train): 1.0000, acc (valid): 0.9546\n",
      "epoch: 3, iteration: 16801, loss (train): 0.1287, loss (valid): 0.1366acc (train): 1.0000, acc (valid): 0.9599\n",
      "epoch: 4, iteration: 21001, loss (train): 0.0201, loss (valid): 0.1282acc (train): 1.0000, acc (valid): 0.9609\n",
      "epoch: 5, iteration: 25201, loss (train): 0.0065, loss (valid): 0.1144acc (train): 1.0000, acc (valid): 0.9659\n",
      "epoch: 6, iteration: 29401, loss (train): 0.0678, loss (valid): 0.1038acc (train): 1.0000, acc (valid): 0.9686\n",
      "epoch: 7, iteration: 33601, loss (train): 0.0582, loss (valid): 0.1002acc (train): 1.0000, acc (valid): 0.9701\n",
      "epoch: 8, iteration: 37801, loss (train): 0.0044, loss (valid): 0.0969acc (train): 1.0000, acc (valid): 0.9697\n",
      "epoch: 9, iteration: 42001, loss (train): 0.0519, loss (valid): 0.0960acc (train): 1.0000, acc (valid): 0.9703\n",
      "epoch: 10, iteration: 46201, loss (train): 0.0087, loss (valid): 0.0915acc (train): 1.0000, acc (valid): 0.9722\n",
      "epoch: 11, iteration: 50401, loss (train): 0.3937, loss (valid): 0.0984acc (train): 0.9000, acc (valid): 0.9697\n",
      "epoch: 12, iteration: 54601, loss (train): 0.0015, loss (valid): 0.0928acc (train): 1.0000, acc (valid): 0.9717\n",
      "epoch: 13, iteration: 58801, loss (train): 0.1460, loss (valid): 0.0872acc (train): 0.9000, acc (valid): 0.9733\n",
      "epoch: 14, iteration: 63001, loss (train): 0.0035, loss (valid): 0.0927acc (train): 1.0000, acc (valid): 0.9718\n",
      "epoch: 15, iteration: 67201, loss (train): 0.0196, loss (valid): 0.0887acc (train): 1.0000, acc (valid): 0.9742\n",
      "epoch: 16, iteration: 71401, loss (train): 0.0031, loss (valid): 0.0856acc (train): 1.0000, acc (valid): 0.9741\n",
      "epoch: 17, iteration: 75601, loss (train): 0.0042, loss (valid): 0.0881acc (train): 1.0000, acc (valid): 0.9736\n",
      "epoch: 18, iteration: 79801, loss (train): 0.0107, loss (valid): 0.0990acc (train): 1.0000, acc (valid): 0.9712\n",
      "epoch: 19, iteration: 84001, loss (train): 0.0052, loss (valid): 0.0858acc (train): 1.0000, acc (valid): 0.9745\n",
      "epoch: 20, iteration: 88201, loss (train): 0.0265, loss (valid): 0.0882acc (train): 1.0000, acc (valid): 0.9743\n",
      "epoch: 21, iteration: 92401, loss (train): 0.0200, loss (valid): 0.0911acc (train): 1.0000, acc (valid): 0.9734\n",
      "epoch: 22, iteration: 96601, loss (train): 0.0410, loss (valid): 0.0890acc (train): 1.0000, acc (valid): 0.9756\n",
      "epoch: 23, iteration: 100801, loss (train): 0.0047, loss (valid): 0.0919acc (train): 1.0000, acc (valid): 0.9734\n",
      "epoch: 24, iteration: 105001, loss (train): 0.0014, loss (valid): 0.0906acc (train): 1.0000, acc (valid): 0.9755\n",
      "epoch: 25, iteration: 109201, loss (train): 0.0194, loss (valid): 0.0897acc (train): 1.0000, acc (valid): 0.9747\n",
      "epoch: 26, iteration: 113401, loss (train): 0.0329, loss (valid): 0.0910acc (train): 1.0000, acc (valid): 0.9744\n",
      "epoch: 27, iteration: 117601, loss (train): 0.0045, loss (valid): 0.0909acc (train): 1.0000, acc (valid): 0.9752\n",
      "epoch: 28, iteration: 121801, loss (train): 0.0024, loss (valid): 0.0924acc (train): 1.0000, acc (valid): 0.9744\n",
      "epoch: 29, iteration: 126001, loss (train): 0.0019, loss (valid): 0.0922acc (train): 1.0000, acc (valid): 0.9747\n",
      "epoch: 30, iteration: 130201, loss (train): 0.0086, loss (valid): 0.0970acc (train): 1.0000, acc (valid): 0.9736\n",
      "epoch: 31, iteration: 134401, loss (train): 0.0041, loss (valid): 0.0928acc (train): 1.0000, acc (valid): 0.9741\n",
      "epoch: 32, iteration: 138601, loss (train): 0.0094, loss (valid): 0.0920acc (train): 1.0000, acc (valid): 0.9750\n",
      "epoch: 33, iteration: 142801, loss (train): 0.0002, loss (valid): 0.0909acc (train): 1.0000, acc (valid): 0.9756\n",
      "epoch: 34, iteration: 147001, loss (train): 0.0002, loss (valid): 0.0954acc (train): 1.0000, acc (valid): 0.9747\n",
      "epoch: 35, iteration: 151201, loss (train): 0.0021, loss (valid): 0.0942acc (train): 1.0000, acc (valid): 0.9746\n",
      "epoch: 36, iteration: 155401, loss (train): 0.0009, loss (valid): 0.0914acc (train): 1.0000, acc (valid): 0.9758\n",
      "epoch: 37, iteration: 159601, loss (train): 0.0005, loss (valid): 0.0919acc (train): 1.0000, acc (valid): 0.9757\n",
      "epoch: 38, iteration: 163801, loss (train): 0.0031, loss (valid): 0.0934acc (train): 1.0000, acc (valid): 0.9754\n",
      "epoch: 39, iteration: 168001, loss (train): 0.0091, loss (valid): 0.0920acc (train): 1.0000, acc (valid): 0.9762\n",
      "epoch: 40, iteration: 172201, loss (train): 0.0024, loss (valid): 0.0971acc (train): 1.0000, acc (valid): 0.9739\n",
      "epoch: 41, iteration: 176401, loss (train): 0.0025, loss (valid): 0.0938acc (train): 1.0000, acc (valid): 0.9751\n",
      "epoch: 42, iteration: 180601, loss (train): 0.0021, loss (valid): 0.0941acc (train): 1.0000, acc (valid): 0.9748\n",
      "epoch: 43, iteration: 184801, loss (train): 0.0005, loss (valid): 0.0961acc (train): 1.0000, acc (valid): 0.9744\n",
      "epoch: 44, iteration: 189001, loss (train): 0.0010, loss (valid): 0.0927acc (train): 1.0000, acc (valid): 0.9757\n",
      "epoch: 45, iteration: 193201, loss (train): 0.0033, loss (valid): 0.0940acc (train): 1.0000, acc (valid): 0.9753\n",
      "epoch: 46, iteration: 197401, loss (train): 0.0001, loss (valid): 0.0926acc (train): 1.0000, acc (valid): 0.9758\n",
      "epoch: 47, iteration: 201601, loss (train): 0.0016, loss (valid): 0.0936acc (train): 1.0000, acc (valid): 0.9753\n",
      "epoch: 48, iteration: 205801, loss (train): 0.0002, loss (valid): 0.0944acc (train): 1.0000, acc (valid): 0.9754\n",
      "epoch: 49, iteration: 210001, loss (train): 0.0008, loss (valid): 0.0943acc (train): 1.0000, acc (valid): 0.9756\n"
     ]
    }
   ],
   "source": [
    "gpu_id = 0\n",
    "\n",
    "n_batch = 64  # バッチサイズ\n",
    "n_epoch = 50  # エポック数\n",
    "\n",
    "# ネットワークを GPU メモリ上に転送\n",
    "net.to_gpu(gpu_id)\n",
    "\n",
    "# ログ\n",
    "results_train, results_valid = {}, {}\n",
    "results_train['loss'], results_train['accuracy'] = [], []\n",
    "results_valid['loss'], results_valid['accuracy'] = [], []\n",
    "\n",
    "train_iter.reset()  # 上で一度 next() が呼ばれているため\n",
    "\n",
    "count = 1\n",
    "\n",
    "for epoch in range(n_epoch):\n",
    "\n",
    "    while True:\n",
    "\n",
    "        # ミニバッチの取得\n",
    "        train_batch = train_iter.next()\n",
    "\n",
    "        # x と t に分割\n",
    "        # データを GPU に転送するために、concat_examples に gpu_id を渡す\n",
    "        x_train, t_train = chainer.dataset.concat_examples(train_batch, gpu_id)\n",
    "\n",
    "        # 予測値と目的関数の計算\n",
    "        y_train = net(x_train)\n",
    "        loss_train = F.softmax_cross_entropy(y_train, t_train)\n",
    "        acc_train = F.accuracy(y_train, t_train)\n",
    "\n",
    "        # 勾配の初期化と勾配の計算\n",
    "        net.cleargrads()\n",
    "        loss_train.backward()\n",
    "\n",
    "        # パラメータの更新\n",
    "        optimizer.update()\n",
    "\n",
    "        # カウントアップ\n",
    "        count += 1\n",
    "\n",
    "        # 1エポック終えたら、valid データで評価する\n",
    "        if train_iter.is_new_epoch:\n",
    "\n",
    "            # 検証用データに対する結果の確認\n",
    "            with chainer.using_config('train', False), chainer.using_config('enable_backprop', False):\n",
    "                x_valid, t_valid = chainer.dataset.concat_examples(valid, gpu_id)\n",
    "#                 x_valid, t_valid = chainer.dataset.concat_examples(valid)\n",
    "                y_valid = net(x_valid)\n",
    "                loss_valid = F.softmax_cross_entropy(y_valid, t_valid)\n",
    "                acc_valid = F.accuracy(y_valid, t_valid)\n",
    "\n",
    "            # 注意：GPU で計算した結果はGPU上に存在するため、CPU上に転送します\n",
    "            loss_train.to_cpu()\n",
    "            loss_valid.to_cpu()\n",
    "            acc_train.to_cpu()\n",
    "            acc_valid.to_cpu()\n",
    "\n",
    "            # 結果の表示\n",
    "            print('epoch: {}, iteration: {}, loss (train): {:.4f}, loss (valid): {:.4f}'\n",
    "                  'acc (train): {:.4f}, acc (valid): {:.4f}'.format(\n",
    "                epoch, count, loss_train.array.mean(), loss_valid.array.mean(),\n",
    "                  acc_train.array.mean(), acc_valid.array.mean()))\n",
    "\n",
    "            # 可視化用に保存\n",
    "            results_train['loss'] .append(loss_train.array)\n",
    "            results_train['accuracy'] .append(acc_train.array)\n",
    "            results_valid['loss'].append(loss_valid.array)\n",
    "            results_valid['accuracy'].append(acc_valid.array)\n",
    "\n",
    "            break"
   ]
  },
  {
   "cell_type": "markdown",
   "metadata": {},
   "source": [
    "# 損失と精度の確認"
   ]
  },
  {
   "cell_type": "code",
   "execution_count": 14,
   "metadata": {},
   "outputs": [
    {
     "data": {
      "image/png": "[encoded data removed]",
      "text/plain": [
       "<Figure size 432x288 with 1 Axes>"
      ]
     },
     "metadata": {
      "needs_background": "light"
     },
     "output_type": "display_data"
    },
    {
     "data": {
      "image/png": "[encoded data removed]",
      "text/plain": [
       "<Figure size 432x288 with 1 Axes>"
      ]
     },
     "metadata": {
      "needs_background": "light"
     },
     "output_type": "display_data"
    }
   ],
   "source": [
    "# 損失 (loss)\n",
    "plt.plot(results_train['loss'], label='train')  # label で凡例の設定\n",
    "plt.plot(results_valid['loss'], label='valid')  # label で凡例の設定\n",
    "plt.legend()  # 凡例の表示\n",
    "plt.show()\n",
    "\n",
    "# 精度 (accuracy)\n",
    "plt.plot(results_train['accuracy'], label='train')  # label で凡例の設定\n",
    "plt.plot(results_valid['accuracy'], label='valid')  # label で凡例の設定\n",
    "plt.legend()  # 凡例の表示\n",
    "plt.show()"
   ]
  },
  {
   "cell_type": "code",
   "execution_count": 15,
   "metadata": {},
   "outputs": [
    {
     "name": "stdout",
     "output_type": "stream",
     "text": [
      "test loss: 0.0932\n",
      "test accuracy: 0.9759\n"
     ]
    }
   ],
   "source": [
    "# テストデータに対する損失と精度を計算\n",
    "x_test, t_test = chainer.dataset.concat_examples(test, device=gpu_id)\n",
    "with chainer.using_config('train', False), chainer.using_config('enable_backprop', False):\n",
    "    y_test = net(x_test)\n",
    "    loss_test = F.softmax_cross_entropy(y_test, t_test)\n",
    "    acc_test = F.accuracy(y_test, t_test)\n",
    "\n",
    "print('test loss: {:.4f}'.format(loss_test.array.get()))\n",
    "print('test accuracy: {:.4f}'.format(acc_test.array.get()))"
   ]
  },
  {
   "cell_type": "markdown",
   "metadata": {},
   "source": [
    "# ネットワークの保存"
   ]
  },
  {
   "cell_type": "code",
   "execution_count": 16,
   "metadata": {},
   "outputs": [],
   "source": [
    "# 保存\n",
    "\n",
    "from chainer.serializers import save_npz\n",
    "\n",
    "net.to_cpu()\n",
    "\n",
    "save_npz('net.npz', net)"
   ]
  },
  {
   "cell_type": "code",
   "execution_count": 17,
   "metadata": {},
   "outputs": [
    {
     "name": "stdout",
     "output_type": "stream",
     "text": [
      "l1/W :\t (100, 784)\n",
      "l1/b :\t (100,)\n",
      "l3/W :\t (10, 100)\n",
      "l3/b :\t (10,)\n",
      "l2/W :\t (100, 100)\n",
      "l2/b :\t (100,)\n"
     ]
    }
   ],
   "source": [
    "# 読み込み\n",
    "\n",
    "import numpy as np\n",
    "\n",
    "load_params = np.load('net.npz')\n",
    "\n",
    "for key, param in load_params.items():\n",
    "    print(key, ':\\t', param.shape)"
   ]
  },
  {
   "cell_type": "code",
   "execution_count": null,
   "metadata": {},
   "outputs": [],
   "source": []
  }
 ],
 "metadata": {
  "kernelspec": {
   "display_name": "Python 3",
   "language": "python",
   "name": "python3"
  },
  "language_info": {
   "codemirror_mode": {
    "name": "ipython",
    "version": 3
   },
   "file_extension": ".py",
   "mimetype": "text/x-python",
   "name": "python",
   "nbconvert_exporter": "python",
   "pygments_lexer": "ipython3",
   "version": "3.6.8"
  }
 },
 "nbformat": 4,
 "nbformat_minor": 2
}
