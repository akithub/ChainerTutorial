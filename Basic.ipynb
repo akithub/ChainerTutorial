{
 "cells": [
  {
   "cell_type": "markdown",
   "metadata": {},
   "source": [
    "# import"
   ]
  },
  {
   "cell_type": "code",
   "execution_count": 1,
   "metadata": {},
   "outputs": [],
   "source": [
    "import matplotlib.pyplot as plt\n",
    "import numpy as np\n",
    "\n",
    "import chainer"
   ]
  },
  {
   "cell_type": "markdown",
   "metadata": {},
   "source": [
    "# データの取得"
   ]
  },
  {
   "cell_type": "code",
   "execution_count": 2,
   "metadata": {},
   "outputs": [],
   "source": [
    "train, test = chainer.datasets.get_mnist()"
   ]
  },
  {
   "cell_type": "markdown",
   "metadata": {},
   "source": [
    "## データの表示\n",
    "\n",
    "引っ張ってきたデータの中身を見てみる"
   ]
  },
  {
   "cell_type": "code",
   "execution_count": 3,
   "metadata": {},
   "outputs": [
    {
     "name": "stdout",
     "output_type": "stream",
     "text": [
      "<class 'chainer.datasets.tuple_dataset.TupleDataset'>\n",
      "60000 10000\n",
      "<class 'tuple'>\n"
     ]
    }
   ],
   "source": [
    "print(type(train))\n",
    "print(len(train), len(test))\n",
    "print(type(train[0]))"
   ]
  },
  {
   "cell_type": "markdown",
   "metadata": {},
   "source": [
    "それぞれ 60,000個, 10,000個のタプル配列のようだ"
   ]
  },
  {
   "cell_type": "code",
   "execution_count": 4,
   "metadata": {},
   "outputs": [
    {
     "name": "stdout",
     "output_type": "stream",
     "text": [
      "<class 'numpy.ndarray'> <class 'numpy.int32'>\n",
      "5\n"
     ]
    }
   ],
   "source": [
    "print(type(train[0][0]), type(train[0][1]))\n",
    "# print((train[0][0]))\n",
    "print(train[0][1])"
   ]
  },
  {
   "cell_type": "markdown",
   "metadata": {},
   "source": [
    "- train[n][0] には画像データが ndarray として格納されている\n",
    "- train[n][1] にはラベルが int32 として格納されている"
   ]
  },
  {
   "cell_type": "code",
   "execution_count": 5,
   "metadata": {},
   "outputs": [
    {
     "name": "stdout",
     "output_type": "stream",
     "text": [
      "5\n"
     ]
    },
    {
     "data": {
      "text/plain": [
       "<matplotlib.image.AxesImage at 0x7fa09a048630>"
      ]
     },
     "execution_count": 5,
     "metadata": {},
     "output_type": "execute_result"
    },
    {
     "data": {
      "image/png": "[encoded data removed]",
      "text/plain": [
       "<Figure size 432x288 with 1 Axes>"
      ]
     },
     "metadata": {
      "needs_background": "light"
     },
     "output_type": "display_data"
    }
   ],
   "source": [
    "print(train[0][1])\n",
    "img = train[0][0].reshape(28,28)\n",
    "plt.imshow(img)"
   ]
  },
  {
   "cell_type": "markdown",
   "metadata": {},
   "source": [
    "# ネットワーク定義"
   ]
  },
  {
   "cell_type": "markdown",
   "metadata": {},
   "source": [
    "## import"
   ]
  },
  {
   "cell_type": "code",
   "execution_count": 6,
   "metadata": {},
   "outputs": [],
   "source": [
    "from chainer import Sequential\n",
    "import chainer.links as L\n",
    "import chainer.functions as F"
   ]
  },
  {
   "cell_type": "markdown",
   "metadata": {},
   "source": [
    "ニューラルネットワーク層を構成する関数群をライブラリとして提供している。<br> \n",
    "links, functions 以下に色々入っているので import しておく。\n",
    "\n",
    "- Links: パラメータを持つ関数(層)\n",
    "    - 全結合層など\n",
    "- Functions: パラメータを持たない関数\n",
    "    - シグモイドや ReLU など"
   ]
  },
  {
   "cell_type": "code",
   "execution_count": 7,
   "metadata": {
    "scrolled": true
   },
   "outputs": [
    {
     "name": "stdout",
     "output_type": "stream",
     "text": [
      "activation\n",
      "connection\n",
      "Maxout\n",
      "PReLU\n",
      "SimplifiedDropconnect\n",
      "Swish\n",
      "Bias\n",
      "Bilinear\n",
      "Convolution2D\n",
      "Convolution1D\n",
      "Convolution3D\n",
      "ConvolutionND\n",
      "Deconvolution2D\n",
      "Deconvolution1D\n",
      "Deconvolution3D\n",
      "DeconvolutionND\n",
      "DeformableConvolution2D\n",
      "DepthwiseConvolution2D\n",
      "DilatedConvolution2D\n",
      "EmbedID\n",
      "GRU\n",
      "StatefulGRU\n",
      "StatelessGRU\n",
      "Highway\n",
      "Inception\n",
      "normalization\n",
      "InceptionBN\n",
      "Linear\n",
      "LocalConvolution2D\n",
      "LSTM\n",
      "StatelessLSTM\n",
      "StatefulMGU\n",
      "StatelessMGU\n",
      "MLPConvolution2D\n",
      "NStepBiGRU\n",
      "NStepGRU\n",
      "NStepBiLSTM\n",
      "NStepLSTM\n",
      "NStepBiRNNReLU\n",
      "NStepBiRNNTanh\n",
      "NStepRNNReLU\n",
      "NStepRNNTanh\n",
      "Parameter\n",
      "StatefulPeepholeLSTM\n",
      "Scale\n",
      "ChildSumTreeLSTM\n",
      "NaryTreeLSTM\n",
      "StatefulZoneoutLSTM\n",
      "loss\n",
      "BlackOut\n",
      "CRF1d\n",
      "BinaryHierarchicalSoftmax\n",
      "NegativeSampling\n",
      "model\n",
      "Classifier\n",
      "GoogLeNet\n",
      "ResNet101Layers\n",
      "ResNet152Layers\n",
      "ResNet50Layers\n",
      "VGG16Layers\n",
      "VGG19Layers\n",
      "BatchNormalization\n",
      "BatchRenormalization\n",
      "DecorrelatedBatchNormalization\n",
      "GroupNormalization\n",
      "LayerNormalization\n",
      "theano\n",
      "TheanoFunction\n"
     ]
    }
   ],
   "source": [
    "for m in L.__dir__():\n",
    "    if not str(m).startswith('__'):\n",
    "        print(m)"
   ]
  },
  {
   "cell_type": "code",
   "execution_count": 8,
   "metadata": {},
   "outputs": [
    {
     "name": "stdout",
     "output_type": "stream",
     "text": [
      "activation\n",
      "clipped_relu\n",
      "relu6\n",
      "crelu\n",
      "elu\n",
      "hard_sigmoid\n",
      "leaky_relu\n",
      "log_softmax\n",
      "lstm\n",
      "array\n",
      "math\n",
      "maxout\n",
      "prelu\n",
      "relu\n",
      "rrelu\n",
      "selu\n",
      "sigmoid\n",
      "slstm\n",
      "softmax\n",
      "softplus\n",
      "swish\n",
      "tanh\n",
      "tree_lstm\n",
      "as_strided\n",
      "broadcast\n",
      "broadcast_to\n",
      "cast\n",
      "concat\n",
      "copy\n",
      "depth2space\n",
      "diagonal\n",
      "dstack\n",
      "expand_dims\n",
      "flatten\n",
      "flip\n",
      "fliplr\n",
      "flipud\n",
      "get_item\n",
      "hstack\n",
      "im2col\n",
      "moveaxis\n",
      "pad\n",
      "pad_sequence\n",
      "permutate\n",
      "repeat\n",
      "reshape\n",
      "resize_images\n",
      "rollaxis\n",
      "scatter_add\n",
      "select_item\n",
      "separate\n",
      "space2depth\n",
      "spatial_transformer_grid\n",
      "spatial_transformer_sampler\n",
      "split_axis\n",
      "squeeze\n",
      "stack\n",
      "swapaxes\n",
      "tile\n",
      "transpose\n",
      "transpose_sequence\n",
      "vstack\n",
      "where\n",
      "connection\n",
      "bilinear\n",
      "convolution_2d\n",
      "convolution_1d\n",
      "convolution_3d\n",
      "convolution_nd\n",
      "deconvolution_2d\n",
      "deconvolution_1d\n",
      "deconvolution_3d\n",
      "deconvolution_nd\n",
      "deformable_convolution_2d_sampler\n",
      "depthwise_convolution_2d\n",
      "dilated_convolution_2d\n",
      "embed_id\n",
      "linear\n",
      "local_convolution_2d\n",
      "noise\n",
      "n_step_bigru\n",
      "n_step_gru\n",
      "n_step_bilstm\n",
      "n_step_lstm\n",
      "n_step_birnn\n",
      "n_step_rnn\n",
      "shift\n",
      "evaluation\n",
      "accuracy\n",
      "binary_accuracy\n",
      "classification_summary\n",
      "f1_score\n",
      "precision\n",
      "recall\n",
      "r2_score\n",
      "loss\n",
      "absolute_error\n",
      "black_out\n",
      "contrastive\n",
      "argmax_crf1d\n",
      "crf1d\n",
      "cross_covariance\n",
      "connectionist_temporal_classification\n",
      "decov\n",
      "discriminative_margin_based_clustering_loss\n",
      "hinge\n",
      "huber_loss\n",
      "mean_absolute_error\n",
      "mean_squared_error\n",
      "negative_sampling\n",
      "sigmoid_cross_entropy\n",
      "softmax_cross_entropy\n",
      "squared_error\n",
      "triplet\n",
      "bernoulli_nll\n",
      "gaussian_kl_divergence\n",
      "gaussian_nll\n",
      "average\n",
      "absolute\n",
      "add\n",
      "batch_l2_norm_squared\n",
      "bias\n",
      "ceil\n",
      "clip\n",
      "cumprod\n",
      "cumsum\n",
      "batch_det\n",
      "det\n",
      "digamma\n",
      "einsum\n",
      "erf\n",
      "erfc\n",
      "erfcinv\n",
      "erfcx\n",
      "erfinv\n",
      "exp\n",
      "log\n",
      "log10\n",
      "log2\n",
      "expm1\n",
      "fft\n",
      "ifft\n",
      "fix\n",
      "floor\n",
      "fmod\n",
      "cosh\n",
      "sinh\n",
      "identity\n",
      "batch_inv\n",
      "inv\n",
      "lgamma\n",
      "linear_interpolate\n",
      "log_ndtr\n",
      "log1p\n",
      "logsumexp\n",
      "batch_matmul\n",
      "matmul\n",
      "maximum\n",
      "minimum\n",
      "argmax\n",
      "argmin\n",
      "max\n",
      "min\n",
      "ndtr\n",
      "ndtri\n",
      "polygamma\n",
      "prod\n",
      "scale\n",
      "sign\n",
      "sparse_matmul\n",
      "rsqrt\n",
      "sqrt\n",
      "square\n",
      "squared_difference\n",
      "sum\n",
      "sum_to\n",
      "tensordot\n",
      "arccos\n",
      "arcsin\n",
      "arctan\n",
      "arctan2\n",
      "cos\n",
      "sin\n",
      "tan\n",
      "dropout\n",
      "gaussian\n",
      "gumbel_softmax\n",
      "simplified_dropconnect\n",
      "zoneout\n",
      "normalization\n",
      "batch_normalization\n",
      "fixed_batch_normalization\n",
      "batch_renormalization\n",
      "fixed_batch_renormalization\n",
      "decorrelated_batch_normalization\n",
      "fixed_decorrelated_batch_normalization\n",
      "group_normalization\n",
      "normalize\n",
      "layer_normalization\n",
      "local_response_normalization\n",
      "pooling\n",
      "average_pooling_2d\n",
      "average_pooling_1d\n",
      "average_pooling_3d\n",
      "average_pooling_nd\n",
      "max_pooling_2d\n",
      "max_pooling_1d\n",
      "max_pooling_3d\n",
      "max_pooling_nd\n",
      "roi_average_align_2d\n",
      "roi_average_pooling_2d\n",
      "roi_max_align_2d\n",
      "roi_max_pooling_2d\n",
      "roi_pooling_2d\n",
      "spatial_pyramid_pooling_2d\n",
      "unpooling_2d\n",
      "unpooling_1d\n",
      "unpooling_3d\n",
      "unpooling_nd\n",
      "upsampling_2d\n",
      "util\n",
      "forget\n",
      "mean\n",
      "theano\n"
     ]
    }
   ],
   "source": [
    "for m in F.__dir__():\n",
    "    if not str(m).startswith('__'):\n",
    "        print(m)"
   ]
  },
  {
   "cell_type": "markdown",
   "metadata": {},
   "source": [
    "## Sequential によるネットワークの定義"
   ]
  },
  {
   "cell_type": "code",
   "execution_count": 9,
   "metadata": {},
   "outputs": [],
   "source": [
    "n_input = 784\n",
    "n_hidden = 100\n",
    "n_output = 10"
   ]
  },
  {
   "cell_type": "markdown",
   "metadata": {},
   "source": [
    "- n_input: mnist なので 784\n",
    "- n_hidden: 隠れ層の数、適当に設定\n",
    "- n_output: mnist なので 10"
   ]
  },
  {
   "cell_type": "code",
   "execution_count": 10,
   "metadata": {},
   "outputs": [],
   "source": [
    "# net としてインスタンス化\n",
    "net = Sequential(\n",
    "    L.Linear(n_input, n_hidden), F.relu,\n",
    "    L.Linear(n_hidden, n_hidden), F.relu,\n",
    "    L.Linear(n_hidden, n_output)\n",
    ")"
   ]
  },
  {
   "cell_type": "markdown",
   "metadata": {},
   "source": [
    "## 目的関数の選択\n",
    "\n",
    "分類タスクによく用いられる**交差エントロピー**を用いる。<br>\n",
    "Chainer では以下のように呼べる\n",
    "```\n",
    "softmax_cross_entropy(予測値, ラベル)\n",
    "```"
   ]
  },
  {
   "cell_type": "markdown",
   "metadata": {},
   "source": [
    "## 最適化手法の選択\n",
    "\n",
    "Chainer では　`chainer.optimizers` に様々な最適化手法のためのクラスが用意されている。"
   ]
  },
  {
   "cell_type": "code",
   "execution_count": 11,
   "metadata": {
    "scrolled": true
   },
   "outputs": [
    {
     "name": "stdout",
     "output_type": "stream",
     "text": [
      "ada_delta\n",
      "AdaDelta\n",
      "ada_grad\n",
      "AdaGrad\n",
      "adam\n",
      "Adam\n",
      "corrected_momentum_sgd\n",
      "CorrectedMomentumSGD\n",
      "momentum_sgd\n",
      "MomentumSGD\n",
      "msvag\n",
      "MSVAG\n",
      "nesterov_ag\n",
      "NesterovAG\n",
      "rmsprop\n",
      "RMSprop\n",
      "rmsprop_graves\n",
      "RMSpropGraves\n",
      "sgd\n",
      "SGD\n",
      "smorms3\n",
      "SMORMS3\n"
     ]
    }
   ],
   "source": [
    "for m in chainer.optimizers.__dir__():\n",
    "    if not str(m).startswith('__'):\n",
    "        print(m)"
   ]
  },
  {
   "cell_type": "markdown",
   "metadata": {},
   "source": [
    "今回は、最適化手法として `確率的勾配降下法(SGD)` を利用する"
   ]
  },
  {
   "cell_type": "code",
   "execution_count": 12,
   "metadata": {},
   "outputs": [],
   "source": [
    "optimizer = chainer.optimizers.SGD(lr=0.01)"
   ]
  },
  {
   "cell_type": "markdown",
   "metadata": {},
   "source": [
    "作成した `optimizer` に `net` をセットしてパラメータ更新が `optimizer` によって行われるようにする"
   ]
  },
  {
   "cell_type": "code",
   "execution_count": 13,
   "metadata": {},
   "outputs": [
    {
     "data": {
      "text/plain": [
       "<chainer.optimizers.sgd.SGD at 0x7fa099cb3668>"
      ]
     },
     "execution_count": 13,
     "metadata": {},
     "output_type": "execute_result"
    }
   ],
   "source": [
    "optimizer.setup(net)"
   ]
  },
  {
   "cell_type": "markdown",
   "metadata": {},
   "source": [
    "## 訓練する\n",
    "\n",
    "エポック数とバッチサイズの決定"
   ]
  },
  {
   "cell_type": "code",
   "execution_count": 14,
   "metadata": {},
   "outputs": [],
   "source": [
    "n_epoch = 30\n",
    "n_batchsize = 100"
   ]
  },
  {
   "cell_type": "markdown",
   "metadata": {},
   "source": [
    "訓練の実行"
   ]
  },
  {
   "cell_type": "code",
   "execution_count": 15,
   "metadata": {},
   "outputs": [],
   "source": [
    "x_train = train._datasets[0]\n",
    "t_train = train._datasets[1]\n",
    "x_val   = test._datasets[0]\n",
    "t_val   = test._datasets[1]"
   ]
  },
  {
   "cell_type": "code",
   "execution_count": 16,
   "metadata": {},
   "outputs": [
    {
     "name": "stdout",
     "output_type": "stream",
     "text": [
      "epoch: 0, iteration: 600, loss (train): 1.4492, loss (valid): 0.6476\n",
      "epoch: 1, iteration: 1200, loss (train): 0.5150, loss (valid): 0.4043\n",
      "epoch: 2, iteration: 1800, loss (train): 0.3873, loss (valid): 0.3423\n",
      "epoch: 3, iteration: 2400, loss (train): 0.3387, loss (valid): 0.3072\n",
      "epoch: 4, iteration: 3000, loss (train): 0.3097, loss (valid): 0.2848\n",
      "epoch: 5, iteration: 3600, loss (train): 0.2884, loss (valid): 0.2704\n",
      "epoch: 6, iteration: 4200, loss (train): 0.2714, loss (valid): 0.2547\n",
      "epoch: 7, iteration: 4800, loss (train): 0.2570, loss (valid): 0.2451\n",
      "epoch: 8, iteration: 5400, loss (train): 0.2444, loss (valid): 0.2340\n",
      "epoch: 9, iteration: 6000, loss (train): 0.2331, loss (valid): 0.2242\n",
      "epoch: 10, iteration: 6600, loss (train): 0.2227, loss (valid): 0.2180\n",
      "epoch: 11, iteration: 7200, loss (train): 0.2132, loss (valid): 0.2070\n",
      "epoch: 12, iteration: 7800, loss (train): 0.2043, loss (valid): 0.1990\n",
      "epoch: 13, iteration: 8400, loss (train): 0.1961, loss (valid): 0.1912\n",
      "epoch: 14, iteration: 9000, loss (train): 0.1885, loss (valid): 0.1853\n",
      "epoch: 15, iteration: 9600, loss (train): 0.1814, loss (valid): 0.1793\n",
      "epoch: 16, iteration: 10200, loss (train): 0.1747, loss (valid): 0.1739\n",
      "epoch: 17, iteration: 10800, loss (train): 0.1685, loss (valid): 0.1690\n",
      "epoch: 18, iteration: 11400, loss (train): 0.1625, loss (valid): 0.1627\n",
      "epoch: 19, iteration: 12000, loss (train): 0.1571, loss (valid): 0.1580\n",
      "epoch: 20, iteration: 12600, loss (train): 0.1514, loss (valid): 0.1554\n",
      "epoch: 21, iteration: 13200, loss (train): 0.1465, loss (valid): 0.1493\n",
      "epoch: 22, iteration: 13800, loss (train): 0.1416, loss (valid): 0.1470\n",
      "epoch: 23, iteration: 14400, loss (train): 0.1373, loss (valid): 0.1424\n",
      "epoch: 24, iteration: 15000, loss (train): 0.1331, loss (valid): 0.1378\n",
      "epoch: 25, iteration: 15600, loss (train): 0.1292, loss (valid): 0.1356\n",
      "epoch: 26, iteration: 16200, loss (train): 0.1255, loss (valid): 0.1333\n",
      "epoch: 27, iteration: 16800, loss (train): 0.1218, loss (valid): 0.1302\n",
      "epoch: 28, iteration: 17400, loss (train): 0.1184, loss (valid): 0.1258\n",
      "epoch: 29, iteration: 18000, loss (train): 0.1150, loss (valid): 0.1248\n"
     ]
    }
   ],
   "source": [
    "iteration = 0\n",
    "\n",
    "# ログの保存用\n",
    "results_train = {\n",
    "    'loss': [],\n",
    "    'accuracy': []\n",
    "}\n",
    "results_valid = {\n",
    "    'loss': [],\n",
    "    'accuracy': []\n",
    "}\n",
    "\n",
    "for epoch in range(n_epoch):\n",
    "\n",
    "    # データセット並べ替えた順番を取得\n",
    "    order = np.random.permutation(range(len(x_train)))\n",
    "\n",
    "    # 各バッチ毎の目的関数の出力と分類精度の保存用\n",
    "    loss_list = []\n",
    "    accuracy_list = []\n",
    "\n",
    "    for i in range(0, len(order), n_batchsize):\n",
    "        # バッチを準備\n",
    "        index = order[i:i+n_batchsize]\n",
    "        x_train_batch = x_train[index]\n",
    "        t_train_batch = t_train[index]\n",
    "\n",
    "        # 予測値を出力\n",
    "        y_train_batch = net(x_train_batch)\n",
    "\n",
    "        # 目的関数を適用し、分類精度を計算\n",
    "        loss_train_batch = F.softmax_cross_entropy(y_train_batch, t_train_batch)\n",
    "        accuracy_train_batch = F.accuracy(y_train_batch, t_train_batch)\n",
    "\n",
    "        loss_list.append(loss_train_batch.array)\n",
    "        accuracy_list.append(accuracy_train_batch.array)\n",
    "\n",
    "        # 勾配のリセットと勾配の計算\n",
    "        net.cleargrads()\n",
    "        loss_train_batch.backward()\n",
    "\n",
    "        # パラメータの更新\n",
    "        optimizer.update()\n",
    "\n",
    "        # カウントアップ\n",
    "        iteration += 1\n",
    "\n",
    "    # 訓練データに対する目的関数の出力と分類精度を集計\n",
    "    loss_train = np.mean(loss_list)\n",
    "    accuracy_train = np.mean(accuracy_list)\n",
    "\n",
    "    # 1エポック終えたら、検証データで評価\n",
    "    # 検証データで予測値を出力\n",
    "    with chainer.using_config('train', False), chainer.using_config('enable_backprop', False):\n",
    "        y_val = net(x_val)\n",
    "\n",
    "    # 目的関数を適用し、分類精度を計算\n",
    "    loss_val = F.softmax_cross_entropy(y_val, t_val)\n",
    "    accuracy_val = F.accuracy(y_val, t_val)\n",
    "\n",
    "    # 結果の表示\n",
    "    print('epoch: {}, iteration: {}, loss (train): {:.4f}, loss (valid): {:.4f}'.format(\n",
    "        epoch, iteration, loss_train, loss_val.array))\n",
    "\n",
    "    # ログを保存\n",
    "    results_train['loss'] .append(loss_train)\n",
    "    results_train['accuracy'] .append(accuracy_train)\n",
    "    results_valid['loss'].append(loss_val.array)\n",
    "    results_valid['accuracy'].append(accuracy_val.array)"
   ]
  },
  {
   "cell_type": "code",
   "execution_count": 17,
   "metadata": {},
   "outputs": [
    {
     "data": {
      "text/plain": [
       "<matplotlib.legend.Legend at 0x7fa0984a07f0>"
      ]
     },
     "execution_count": 17,
     "metadata": {},
     "output_type": "execute_result"
    },
    {
     "data": {
      "image/png": "[encoded data removed]",
      "text/plain": [
       "<Figure size 432x288 with 1 Axes>"
      ]
     },
     "metadata": {
      "needs_background": "light"
     },
     "output_type": "display_data"
    }
   ],
   "source": [
    "# 目的関数の出力\n",
    "plt.plot(results_train['loss'], label='train')  # label で凡例の設定\n",
    "plt.plot(results_valid['loss'], label='valid')  # label で凡例の設定\n",
    "plt.legend()  # 凡例の表示"
   ]
  },
  {
   "cell_type": "code",
   "execution_count": 18,
   "metadata": {},
   "outputs": [
    {
     "data": {
      "text/plain": [
       "<matplotlib.legend.Legend at 0x7fa09841f908>"
      ]
     },
     "execution_count": 18,
     "metadata": {},
     "output_type": "execute_result"
    },
    {
     "data": {
      "image/png": "[encoded data removed]",
      "text/plain": [
       "<Figure size 432x288 with 1 Axes>"
      ]
     },
     "metadata": {
      "needs_background": "light"
     },
     "output_type": "display_data"
    }
   ],
   "source": [
    "# 分類精度 (accuracy)\n",
    "plt.plot(results_train['accuracy'], label='train')  # label で凡例の設定\n",
    "plt.plot(results_valid['accuracy'], label='valid')  # label で凡例の設定\n",
    "plt.legend()  # 凡例の表示"
   ]
  },
  {
   "cell_type": "code",
   "execution_count": null,
   "metadata": {},
   "outputs": [],
   "source": []
  }
 ],
 "metadata": {
  "file_extension": ".py",
  "kernelspec": {
   "display_name": "Python 3",
   "language": "python",
   "name": "python3"
  },
  "language_info": {
   "codemirror_mode": {
    "name": "ipython",
    "version": 3
   },
   "file_extension": ".py",
   "mimetype": "text/x-python",
   "name": "python",
   "nbconvert_exporter": "python",
   "pygments_lexer": "ipython3",
   "version": "3.6.8"
  },
  "mimetype": "text/x-python",
  "name": "python",
  "npconvert_exporter": "python",
  "pygments_lexer": "ipython3",
  "version": 3
 },
 "nbformat": 4,
 "nbformat_minor": 2
}
